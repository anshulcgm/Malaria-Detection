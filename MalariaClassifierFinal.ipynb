{
 "cells": [
  {
   "cell_type": "code",
   "execution_count": 1,
   "metadata": {},
   "outputs": [],
   "source": [
    "import numpy as np\n",
    "import pandas as pd\n",
    "import matplotlib.pyplot as plt\n",
    "import cv2\n",
    "from PIL import Image\n",
    "import glob\n",
    "import os"
   ]
  },
  {
   "cell_type": "code",
   "execution_count": 2,
   "metadata": {},
   "outputs": [
    {
     "name": "stderr",
     "output_type": "stream",
     "text": [
      "C:\\Users\\anshu\\Anaconda3\\lib\\site-packages\\h5py\\__init__.py:36: FutureWarning: Conversion of the second argument of issubdtype from `float` to `np.floating` is deprecated. In future, it will be treated as `np.float64 == np.dtype(float).type`.\n",
      "  from ._conv import register_converters as _register_converters\n",
      "Using TensorFlow backend.\n"
     ]
    }
   ],
   "source": [
    "import keras\n",
    "from keras.models import Sequential, Input, Model\n",
    "from keras.layers import Dense, Dropout, Flatten\n",
    "from keras.layers import Conv2D, MaxPooling2D\n",
    "from keras.layers.normalization import BatchNormalization\n",
    "from keras.layers.advanced_activations import LeakyReLU"
   ]
  },
  {
   "cell_type": "code",
   "execution_count": 3,
   "metadata": {},
   "outputs": [],
   "source": [
    "uninfected = glob.glob(\"input/Uninfected/*.png\")\n",
    "infected = glob.glob(\"input/Parasitized/*.png\")\n",
    "uninfected_imgs = [(cv2.imread(i, 0)) for i in uninfected]\n",
    "infected_imgs = [(cv2.imread(i, 0)) for i in infected]\n",
    "uninfected_imgs = [cv2.resize(i, (50, 50), interpolation = cv2.INTER_AREA).reshape(50, 50, 1) for i in uninfected_imgs]\n",
    "uninfected_imgs = np.array(uninfected_imgs)\n",
    "infected_imgs= [cv2.resize(i, (50, 50), interpolation = cv2.INTER_AREA).reshape(50, 50, 1) for i in infected_imgs]\n",
    "infected_imgs = np.array(infected_imgs)"
   ]
  },
  {
   "cell_type": "code",
   "execution_count": 4,
   "metadata": {},
   "outputs": [],
   "source": [
    "a = [[i,np.array([0])] for i in uninfected_imgs]\n",
    "a += [[i,np.array([1])] for i in infected_imgs]\n",
    "a = np.array(a)"
   ]
  },
  {
   "cell_type": "code",
   "execution_count": 5,
   "metadata": {},
   "outputs": [],
   "source": [
    "for i in range(25):\n",
    "    np.random.shuffle(a)"
   ]
  },
  {
   "cell_type": "code",
   "execution_count": 6,
   "metadata": {},
   "outputs": [],
   "source": [
    "X = np.array([i[0] for i in a])\n",
    "Y = np.array([i[1] for i in a])\n",
    "Y = Y.reshape(27558,)"
   ]
  },
  {
   "cell_type": "code",
   "execution_count": 7,
   "metadata": {},
   "outputs": [],
   "source": [
    "from sklearn.model_selection import train_test_split\n",
    "train_X, test_X, train_Y, test_Y = train_test_split(X, Y, test_size = 0.2)"
   ]
  },
  {
   "cell_type": "code",
   "execution_count": 8,
   "metadata": {},
   "outputs": [],
   "source": [
    "train_X = train_X.astype('float32')\n",
    "test_X = test_X.astype('float32')\n",
    "train_X = train_X / 255\n",
    "test_X = test_X / 255"
   ]
  },
  {
   "cell_type": "code",
   "execution_count": 9,
   "metadata": {},
   "outputs": [],
   "source": [
    "from keras.utils import to_categorical\n",
    "train_Y_one_hot = to_categorical(train_Y)\n",
    "test_Y_one_hot = to_categorical(test_Y)"
   ]
  },
  {
   "cell_type": "code",
   "execution_count": 10,
   "metadata": {},
   "outputs": [
    {
     "data": {
      "image/png": "[encoded data removed]",
      "text/plain": [
       "<Figure size 432x288 with 1 Axes>"
      ]
     },
     "metadata": {},
     "output_type": "display_data"
    }
   ],
   "source": [
    "%matplotlib inline\n",
    "import matplotlib\n",
    "import matplotlib.pyplot as plt\n",
    "import math\n",
    "\n",
    "cell = infected_imgs[500]\n",
    "cell_image = cell.reshape(infected_imgs[500].shape[0], infected_imgs[500].shape[1])\n",
    "\n",
    "plt.imshow(cell_image, cmap = matplotlib.cm.binary, interpolation = \"nearest\")\n",
    "plt.axis(\"off\")\n",
    "plt.show()"
   ]
  },
  {
   "cell_type": "code",
   "execution_count": 11,
   "metadata": {},
   "outputs": [
    {
     "data": {
      "text/plain": [
       "Text(0.5,1,'Cell : 0')"
      ]
     },
     "execution_count": 11,
     "metadata": {},
     "output_type": "execute_result"
    },
    {
     "data": {
      "image/png": "[encoded data removed]",
      "text/plain": [
       "<Figure size 360x360 with 2 Axes>"
      ]
     },
     "metadata": {},
     "output_type": "display_data"
    }
   ],
   "source": [
    "plt.figure(figsize=[5,5])\n",
    "\n",
    "# Display the first image in training data\n",
    "plt.subplot(121)\n",
    "plt.imshow(train_X[0,:,:, 0], cmap='gray')\n",
    "plt.title(\"Cell : {}\".format(train_Y[0]))\n",
    "\n",
    "# Display the first image in testing data\n",
    "plt.subplot(122)\n",
    "plt.imshow(test_X[0,:,:, 0], cmap='gray')\n",
    "plt.title(\"Cell : {}\".format(test_Y[0]))"
   ]
  },
  {
   "cell_type": "code",
   "execution_count": 12,
   "metadata": {},
   "outputs": [],
   "source": [
    "train_X, valid_X, train_label, valid_label = train_test_split(train_X, train_Y_one_hot, test_size = 0.2)"
   ]
  },
  {
   "cell_type": "code",
   "execution_count": 13,
   "metadata": {},
   "outputs": [],
   "source": [
    "batch_size = 64\n",
    "epochs = 20\n",
    "num_classes = 2"
   ]
  },
  {
   "cell_type": "code",
   "execution_count": 14,
   "metadata": {},
   "outputs": [],
   "source": [
    "malaria_model = Sequential()\n",
    "malaria_model.add(Conv2D(32, kernel_size = (3, 3), activation = 'linear', input_shape = (50, 50, 1), padding = 'same'))\n",
    "malaria_model.add(LeakyReLU(alpha = 0.1))\n",
    "malaria_model.add(MaxPooling2D((2,2), padding = 'same'))\n",
    "malaria_model.add(Conv2D(64, (3, 3), activation = 'linear', padding = 'same'))\n",
    "malaria_model.add(LeakyReLU(alpha = 0.1))\n",
    "malaria_model.add(MaxPooling2D(pool_size = (2, 2), padding = 'same'))\n",
    "malaria_model.add(Dropout(0.25))\n",
    "malaria_model.add(Conv2D(128, (3, 3), activation = 'linear', padding = 'same'))\n",
    "malaria_model.add(LeakyReLU(alpha = 0.1))\n",
    "malaria_model.add(MaxPooling2D(pool_size = (2,2), padding = 'same'))\n",
    "malaria_model.add(Dropout(0.25))\n",
    "malaria_model.add(Flatten())\n",
    "malaria_model.add(Dense(128, activation = 'linear'))\n",
    "malaria_model.add(LeakyReLU(alpha = 0.1))\n",
    "malaria_model.add(Dropout(0.3))\n",
    "malaria_model.add(Dense(num_classes, activation = 'softmax'))"
   ]
  },
  {
   "cell_type": "code",
   "execution_count": 15,
   "metadata": {},
   "outputs": [
    {
     "name": "stdout",
     "output_type": "stream",
     "text": [
      "_________________________________________________________________\n",
      "Layer (type)                 Output Shape              Param #   \n",
      "=================================================================\n",
      "conv2d_1 (Conv2D)            (None, 50, 50, 32)        320       \n",
      "_________________________________________________________________\n",
      "leaky_re_lu_1 (LeakyReLU)    (None, 50, 50, 32)        0         \n",
      "_________________________________________________________________\n",
      "max_pooling2d_1 (MaxPooling2 (None, 25, 25, 32)        0         \n",
      "_________________________________________________________________\n",
      "conv2d_2 (Conv2D)            (None, 25, 25, 64)        18496     \n",
      "_________________________________________________________________\n",
      "leaky_re_lu_2 (LeakyReLU)    (None, 25, 25, 64)        0         \n",
      "_________________________________________________________________\n",
      "max_pooling2d_2 (MaxPooling2 (None, 13, 13, 64)        0         \n",
      "_________________________________________________________________\n",
      "dropout_1 (Dropout)          (None, 13, 13, 64)        0         \n",
      "_________________________________________________________________\n",
      "conv2d_3 (Conv2D)            (None, 13, 13, 128)       73856     \n",
      "_________________________________________________________________\n",
      "leaky_re_lu_3 (LeakyReLU)    (None, 13, 13, 128)       0         \n",
      "_________________________________________________________________\n",
      "max_pooling2d_3 (MaxPooling2 (None, 7, 7, 128)         0         \n",
      "_________________________________________________________________\n",
      "dropout_2 (Dropout)          (None, 7, 7, 128)         0         \n",
      "_________________________________________________________________\n",
      "flatten_1 (Flatten)          (None, 6272)              0         \n",
      "_________________________________________________________________\n",
      "dense_1 (Dense)              (None, 128)               802944    \n",
      "_________________________________________________________________\n",
      "leaky_re_lu_4 (LeakyReLU)    (None, 128)               0         \n",
      "_________________________________________________________________\n",
      "dropout_3 (Dropout)          (None, 128)               0         \n",
      "_________________________________________________________________\n",
      "dense_2 (Dense)              (None, 2)                 258       \n",
      "=================================================================\n",
      "Total params: 895,874\n",
      "Trainable params: 895,874\n",
      "Non-trainable params: 0\n",
      "_________________________________________________________________\n"
     ]
    }
   ],
   "source": [
    "malaria_model.compile(loss = keras.losses.categorical_crossentropy, optimizer = keras.optimizers.Adam(), metrics = ['accuracy'])\n",
    "malaria_model.summary()"
   ]
  },
  {
   "cell_type": "code",
   "execution_count": 16,
   "metadata": {},
   "outputs": [
    {
     "name": "stdout",
     "output_type": "stream",
     "text": [
      "Train on 17636 samples, validate on 4410 samples\n",
      "Epoch 1/20\n",
      "17636/17636 [==============================] - 83s 5ms/step - loss: 0.6647 - acc: 0.5942 - val_loss: 0.6808 - val_acc: 0.5778\n",
      "Epoch 2/20\n",
      "17636/17636 [==============================] - 80s 5ms/step - loss: 0.4428 - acc: 0.7815 - val_loss: 0.2606 - val_acc: 0.8937\n",
      "Epoch 3/20\n",
      "17636/17636 [==============================] - 79s 4ms/step - loss: 0.2205 - acc: 0.9145 - val_loss: 0.2143 - val_acc: 0.9127\n",
      "Epoch 4/20\n",
      "17636/17636 [==============================] - 81s 5ms/step - loss: 0.1739 - acc: 0.9342 - val_loss: 0.1665 - val_acc: 0.9367\n",
      "Epoch 5/20\n",
      "17636/17636 [==============================] - 80s 5ms/step - loss: 0.1640 - acc: 0.9400 - val_loss: 0.1691 - val_acc: 0.9388\n",
      "Epoch 6/20\n",
      "17636/17636 [==============================] - 76s 4ms/step - loss: 0.1459 - acc: 0.9472 - val_loss: 0.1575 - val_acc: 0.9404\n",
      "Epoch 7/20\n",
      "17636/17636 [==============================] - 75s 4ms/step - loss: 0.1362 - acc: 0.9480 - val_loss: 0.1440 - val_acc: 0.9454\n",
      "Epoch 8/20\n",
      "17636/17636 [==============================] - 74s 4ms/step - loss: 0.1263 - acc: 0.9522 - val_loss: 0.1675 - val_acc: 0.9420\n",
      "Epoch 9/20\n",
      "17636/17636 [==============================] - 74s 4ms/step - loss: 0.1233 - acc: 0.9550 - val_loss: 0.1567 - val_acc: 0.9415\n",
      "Epoch 10/20\n",
      "17636/17636 [==============================] - 75s 4ms/step - loss: 0.1143 - acc: 0.9601 - val_loss: 0.1483 - val_acc: 0.9469\n",
      "Epoch 11/20\n",
      "17636/17636 [==============================] - 75s 4ms/step - loss: 0.1113 - acc: 0.9587 - val_loss: 0.1470 - val_acc: 0.9481\n",
      "Epoch 12/20\n",
      "17636/17636 [==============================] - 73s 4ms/step - loss: 0.1004 - acc: 0.9633 - val_loss: 0.1653 - val_acc: 0.9422\n",
      "Epoch 13/20\n",
      "17636/17636 [==============================] - 75s 4ms/step - loss: 0.0923 - acc: 0.9660 - val_loss: 0.1526 - val_acc: 0.9467\n",
      "Epoch 14/20\n",
      "17636/17636 [==============================] - 74s 4ms/step - loss: 0.0911 - acc: 0.9665 - val_loss: 0.1761 - val_acc: 0.9456\n",
      "Epoch 15/20\n",
      "17636/17636 [==============================] - 74s 4ms/step - loss: 0.0793 - acc: 0.9695 - val_loss: 0.1776 - val_acc: 0.9433\n",
      "Epoch 16/20\n",
      "17636/17636 [==============================] - 73s 4ms/step - loss: 0.0753 - acc: 0.9729 - val_loss: 0.1816 - val_acc: 0.9442\n",
      "Epoch 17/20\n",
      "17636/17636 [==============================] - 73s 4ms/step - loss: 0.0732 - acc: 0.9726 - val_loss: 0.1878 - val_acc: 0.9424\n",
      "Epoch 18/20\n",
      "17636/17636 [==============================] - 73s 4ms/step - loss: 0.0653 - acc: 0.9768 - val_loss: 0.1976 - val_acc: 0.9397\n",
      "Epoch 19/20\n",
      "17636/17636 [==============================] - 72s 4ms/step - loss: 0.0632 - acc: 0.9767 - val_loss: 0.2021 - val_acc: 0.9288\n",
      "Epoch 20/20\n",
      "17636/17636 [==============================] - 73s 4ms/step - loss: 0.0609 - acc: 0.9775 - val_loss: 0.1933 - val_acc: 0.9435\n"
     ]
    }
   ],
   "source": [
    "malaria_train = malaria_model.fit(train_X, train_label, batch_size = batch_size, epochs = epochs, verbose = 1, validation_data = (valid_X, valid_label))"
   ]
  },
  {
   "cell_type": "code",
   "execution_count": 17,
   "metadata": {},
   "outputs": [
    {
     "data": {
      "image/png": "[encoded data removed]",
      "text/plain": [
       "<Figure size 432x288 with 1 Axes>"
      ]
     },
     "metadata": {},
     "output_type": "display_data"
    },
    {
     "data": {
      "image/png": "[encoded data removed]",
      "text/plain": [
       "<Figure size 432x288 with 1 Axes>"
      ]
     },
     "metadata": {},
     "output_type": "display_data"
    }
   ],
   "source": [
    "accuracy = malaria_train.history['acc']\n",
    "val_accuracy = malaria_train.history['val_acc']\n",
    "loss = malaria_train.history['loss']\n",
    "val_loss = malaria_train.history['val_loss']\n",
    "epochs = range(len(accuracy))\n",
    "plt.plot(epochs, accuracy, 'bo', label = 'Training accuracy')\n",
    "plt.plot(epochs, val_accuracy, 'b', label = 'Validation Accuracy')\n",
    "plt.title('Training and validation accuracy')\n",
    "plt.legend()\n",
    "plt.figure()\n",
    "plt.plot(epochs, loss, 'bo', label = 'Training loss')\n",
    "plt.plot(epochs, val_loss, 'b', label = 'Validation loss')\n",
    "plt.title('Training and validation loss')\n",
    "plt.legend()\n",
    "plt.show()"
   ]
  },
  {
   "cell_type": "code",
   "execution_count": 18,
   "metadata": {},
   "outputs": [],
   "source": [
    "y_score_train = malaria_model.predict_classes(train_X)\n",
    "y_score_validate = malaria_model.predict_classes(valid_X)\n",
    "y_score_test = malaria_model.predict_classes(test_X)"
   ]
  },
  {
   "cell_type": "code",
   "execution_count": 19,
   "metadata": {},
   "outputs": [
    {
     "name": "stdout",
     "output_type": "stream",
     "text": [
      "(17636,)\n",
      "(4410,)\n",
      "(5512,)\n"
     ]
    }
   ],
   "source": [
    "train_label_score = train_label[:, 1]\n",
    "print(train_label_score.shape)\n",
    "valid_label_score = valid_label[:, 1]\n",
    "print(valid_label_score.shape)\n",
    "test_label_score = test_Y_one_hot[:, 1]\n",
    "print(test_label_score.shape)"
   ]
  },
  {
   "cell_type": "code",
   "execution_count": 20,
   "metadata": {},
   "outputs": [
    {
     "name": "stdout",
     "output_type": "stream",
     "text": [
      "Training Accuracy: 0.993479\n",
      "Training Precision: 0.996272\n",
      "Training Recall: 0.990787\n",
      "Validation accuracy: 0.943537\n",
      "Validation precision: 0.956710\n",
      "Validation recall: 0.925978\n",
      "Test accuracy: 0.949383\n",
      "Test precision: 0.961249\n",
      "Test recall: 0.935555\n"
     ]
    }
   ],
   "source": [
    "from sklearn.metrics import accuracy_score\n",
    "from sklearn.metrics import precision_score\n",
    "from sklearn.metrics import recall_score\n",
    "train_accuracy = accuracy_score(train_label_score, y_score_train)\n",
    "print('Training Accuracy: %f' %train_accuracy)\n",
    "train_precision = precision_score(train_label_score, y_score_train)\n",
    "print('Training Precision: %f' %train_precision)\n",
    "train_recall = recall_score(train_label_score, y_score_train)\n",
    "print('Training Recall: %f' %train_recall)\n",
    "validation_accuracy = accuracy_score(valid_label_score, y_score_validate)\n",
    "print('Validation accuracy: %f' %validation_accuracy)\n",
    "validation_precision = precision_score(valid_label_score, y_score_validate)\n",
    "print('Validation precision: %f' %validation_precision)\n",
    "validation_recall = recall_score(valid_label_score, y_score_validate)\n",
    "print('Validation recall: %f' %validation_recall)\n",
    "test_accuracy = accuracy_score(test_label_score, y_score_test)\n",
    "print('Test accuracy: %f' %test_accuracy)\n",
    "test_precision = precision_score(test_label_score, y_score_test)\n",
    "print('Test precision: %f' %test_precision)\n",
    "test_recall = recall_score(test_label_score, y_score_test)\n",
    "print('Test recall: %f' %test_recall)"
   ]
  }
 ],
 "metadata": {
  "kernelspec": {
   "display_name": "Python 3",
   "language": "python",
   "name": "python3"
  },
  "language_info": {
   "codemirror_mode": {
    "name": "ipython",
    "version": 3
   },
   "file_extension": ".py",
   "mimetype": "text/x-python",
   "name": "python",
   "nbconvert_exporter": "python",
   "pygments_lexer": "ipython3",
   "version": "3.6.5"
  }
 },
 "nbformat": 4,
 "nbformat_minor": 2
}
