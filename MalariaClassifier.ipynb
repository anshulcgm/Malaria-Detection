{
 "cells": [
  {
   "cell_type": "code",
   "execution_count": 1,
   "metadata": {},
   "outputs": [],
   "source": [
    "import numpy as np\n",
    "import pandas as pd\n",
    "import matplotlib.pyplot as plt\n",
    "import cv2\n",
    "from PIL import Image\n",
    "import glob\n",
    "import os"
   ]
  },
  {
   "cell_type": "code",
   "execution_count": null,
   "metadata": {},
   "outputs": [],
   "source": []
  },
  {
   "cell_type": "code",
   "execution_count": null,
   "metadata": {},
   "outputs": [],
   "source": []
  },
  {
   "cell_type": "code",
   "execution_count": null,
   "metadata": {},
   "outputs": [],
   "source": [
    "os.listdir(\"input\")"
   ]
  },
  {
   "cell_type": "code",
   "execution_count": 2,
   "metadata": {
    "scrolled": true
   },
   "outputs": [],
   "source": [
    "uninfected = glob.glob(\"input/Uninfected/*.png\")\n",
    "infected = glob.glob(\"input/Parasitized/*.png\")"
   ]
  },
  {
   "cell_type": "code",
   "execution_count": 3,
   "metadata": {},
   "outputs": [],
   "source": [
    "uninfected_imgs = [(cv2.imread(i, 0)) for i in uninfected]\n",
    "infected_imgs = [(cv2.imread(i, 0)) for i in infected]"
   ]
  },
  {
   "cell_type": "code",
   "execution_count": null,
   "metadata": {},
   "outputs": [],
   "source": [
    "type(uninfected_imgs)"
   ]
  },
  {
   "cell_type": "code",
   "execution_count": null,
   "metadata": {},
   "outputs": [],
   "source": [
    "type(infected_imgs)"
   ]
  },
  {
   "cell_type": "code",
   "execution_count": null,
   "metadata": {},
   "outputs": [],
   "source": [
    "len(uninfected_imgs)\n"
   ]
  },
  {
   "cell_type": "code",
   "execution_count": null,
   "metadata": {},
   "outputs": [],
   "source": [
    "uninfected_imgs[200]"
   ]
  },
  {
   "cell_type": "code",
   "execution_count": null,
   "metadata": {},
   "outputs": [],
   "source": []
  },
  {
   "cell_type": "code",
   "execution_count": null,
   "metadata": {},
   "outputs": [],
   "source": []
  },
  {
   "cell_type": "code",
   "execution_count": 4,
   "metadata": {},
   "outputs": [],
   "source": [
    "uninfected_imgs = [cv2.resize(i, (2500, 1), interpolation = cv2.INTER_AREA).reshape(2500, 1) for i in uninfected_imgs]"
   ]
  },
  {
   "cell_type": "code",
   "execution_count": 5,
   "metadata": {},
   "outputs": [],
   "source": [
    "infected_imgs = [cv2.resize(i, (2500, 1), interpolation = cv2.INTER_AREA).reshape((2500, 1)) for i in infected_imgs]"
   ]
  },
  {
   "cell_type": "code",
   "execution_count": 6,
   "metadata": {},
   "outputs": [],
   "source": [
    "uninfected_imgs = np.array(uninfected_imgs)\n",
    "infected_imgs = np.array(infected_imgs)"
   ]
  },
  {
   "cell_type": "code",
   "execution_count": null,
   "metadata": {},
   "outputs": [],
   "source": [
    "print(uninfected_imgs.shape)\n",
    "print(infected_imgs.shape)"
   ]
  },
  {
   "cell_type": "code",
   "execution_count": null,
   "metadata": {},
   "outputs": [],
   "source": [
    "%matplotlib inline\n",
    "import matplotlib\n",
    "import matplotlib.pyplot as plt\n",
    "import math\n",
    "\n",
    "cell = infected_imgs[500]\n",
    "cell_image = cell.reshape(infected_imgs[500].shape[0], infected_imgs[500].shape[1])\n",
    "\n",
    "plt.imshow(cell_image, cmap = matplotlib.cm.binary, interpolation = \"nearest\")\n",
    "plt.axis(\"off\")\n",
    "plt.show()"
   ]
  },
  {
   "cell_type": "code",
   "execution_count": 7,
   "metadata": {},
   "outputs": [],
   "source": [
    "a = [[i,np.array([0])] for i in uninfected_imgs]"
   ]
  },
  {
   "cell_type": "code",
   "execution_count": null,
   "metadata": {},
   "outputs": [],
   "source": []
  },
  {
   "cell_type": "code",
   "execution_count": 8,
   "metadata": {},
   "outputs": [],
   "source": [
    "a += [[i,np.array([1])] for i in infected_imgs]"
   ]
  },
  {
   "cell_type": "code",
   "execution_count": 9,
   "metadata": {},
   "outputs": [],
   "source": [
    "a = np.array(a)"
   ]
  },
  {
   "cell_type": "code",
   "execution_count": 10,
   "metadata": {},
   "outputs": [
    {
     "data": {
      "text/plain": [
       "(27558, 2)"
      ]
     },
     "execution_count": 10,
     "metadata": {},
     "output_type": "execute_result"
    }
   ],
   "source": [
    "a.shape"
   ]
  },
  {
   "cell_type": "code",
   "execution_count": 11,
   "metadata": {},
   "outputs": [
    {
     "data": {
      "text/plain": [
       "numpy.ndarray"
      ]
     },
     "execution_count": 11,
     "metadata": {},
     "output_type": "execute_result"
    }
   ],
   "source": [
    "type(a[0])"
   ]
  },
  {
   "cell_type": "code",
   "execution_count": null,
   "metadata": {},
   "outputs": [],
   "source": [
    "type(a[1])"
   ]
  },
  {
   "cell_type": "code",
   "execution_count": null,
   "metadata": {},
   "outputs": [],
   "source": []
  },
  {
   "cell_type": "code",
   "execution_count": 12,
   "metadata": {},
   "outputs": [],
   "source": [
    "for i in range(25):\n",
    "    np.random.shuffle(a)"
   ]
  },
  {
   "cell_type": "code",
   "execution_count": 13,
   "metadata": {},
   "outputs": [
    {
     "name": "stdout",
     "output_type": "stream",
     "text": [
      "(27558, 2500, 1)\n",
      "(27558, 1)\n"
     ]
    }
   ],
   "source": [
    "X = np.array([i[0] for i in a])\n",
    "Y = np.array([i[1] for i in a])\n",
    "X.reshape(27558, 2500, 1)\n",
    "print(X.shape)\n",
    "print(Y.shape)"
   ]
  },
  {
   "cell_type": "code",
   "execution_count": null,
   "metadata": {},
   "outputs": [],
   "source": []
  },
  {
   "cell_type": "code",
   "execution_count": 14,
   "metadata": {},
   "outputs": [
    {
     "name": "stdout",
     "output_type": "stream",
     "text": [
      "(18463,)\n",
      "(9095,)\n"
     ]
    }
   ],
   "source": [
    "from sklearn.model_selection import train_test_split\n",
    "X_train, X_test, Y_train, Y_test = train_test_split(X, Y, test_size = 0.33, random_state = 42)\n",
    "X_train = X_train[:, :, 0]\n",
    "X_test = X_test[:, :, 0]\n",
    "Y_train = Y_train[:, 0]\n",
    "Y_test = Y_test[:, 0]\n",
    "print(Y_train.shape)\n",
    "print(Y_test.shape)"
   ]
  },
  {
   "cell_type": "code",
   "execution_count": 17,
   "metadata": {},
   "outputs": [
    {
     "data": {
      "text/plain": [
       "SVC(C=1.0, cache_size=200, class_weight=None, coef0=0.0,\n",
       "  decision_function_shape='ovr', degree=3, gamma='auto', kernel='rbf',\n",
       "  max_iter=-1, probability=False, random_state=None, shrinking=True,\n",
       "  tol=0.001, verbose=False)"
      ]
     },
     "execution_count": 17,
     "metadata": {},
     "output_type": "execute_result"
    }
   ],
   "source": [
    "from sklearn import svm\n",
    "clf = svm.SVC(kernel = 'rbf')\n",
    "clf.fit(X_train, Y_train)"
   ]
  },
  {
   "cell_type": "code",
   "execution_count": 19,
   "metadata": {},
   "outputs": [
    {
     "data": {
      "text/plain": [
       "0.9735145967610898"
      ]
     },
     "execution_count": 19,
     "metadata": {},
     "output_type": "execute_result"
    }
   ],
   "source": [
    "clf.score(X_train, Y_train)"
   ]
  },
  {
   "cell_type": "code",
   "execution_count": 20,
   "metadata": {},
   "outputs": [
    {
     "data": {
      "text/plain": [
       "0.5179769103903243"
      ]
     },
     "execution_count": 20,
     "metadata": {},
     "output_type": "execute_result"
    }
   ],
   "source": [
    "clf.score(X_test, Y_test)"
   ]
  },
  {
   "cell_type": "code",
   "execution_count": null,
   "metadata": {},
   "outputs": [],
   "source": [
    "from sklearn.tree import DecisionTreeClassifier\n",
    "\n",
    "tree_clf = DecisionTreeClassifier()\n",
    "tree_clf.fit(X_train, Y_train)"
   ]
  },
  {
   "cell_type": "code",
   "execution_count": null,
   "metadata": {},
   "outputs": [],
   "source": [
    "tree_clf.score(X_train, Y_train)"
   ]
  },
  {
   "cell_type": "code",
   "execution_count": null,
   "metadata": {},
   "outputs": [],
   "source": [
    "tree_clf.score(X_test, Y_test)"
   ]
  },
  {
   "cell_type": "code",
   "execution_count": 62,
   "metadata": {},
   "outputs": [],
   "source": [
    "import keras\n",
    "from keras.models import Sequential, Input, Model\n",
    "from keras.layers import Dense, Dropout, Flatten\n",
    "from keras.layers import Conv2D, MaxPooling2D\n",
    "from keras.layers.normalization import BatchNormalization\n",
    "from keras.layers.advanced_activations import LeakyReLU"
   ]
  },
  {
   "cell_type": "code",
   "execution_count": 63,
   "metadata": {},
   "outputs": [],
   "source": [
    "uninfected = glob.glob(\"input/Uninfected/*.png\")\n",
    "infected = glob.glob(\"input/Parasitized/*.png\")\n",
    "uninfected_imgs = [(cv2.imread(i, 0)) for i in uninfected]\n",
    "infected_imgs = [(cv2.imread(i, 0)) for i in infected]\n",
    "uninfected_imgs = [cv2.resize(i, (50, 50), interpolation = cv2.INTER_AREA).reshape(50, 50, 1) for i in uninfected_imgs]\n",
    "uninfected_imgs = np.array(uninfected_imgs)"
   ]
  },
  {
   "cell_type": "code",
   "execution_count": 64,
   "metadata": {},
   "outputs": [],
   "source": [
    "infected_imgs= [cv2.resize(i, (50, 50), interpolation = cv2.INTER_AREA).reshape(50, 50, 1) for i in infected_imgs]\n",
    "infected_imgs = np.array(infected_imgs)"
   ]
  },
  {
   "cell_type": "code",
   "execution_count": 65,
   "metadata": {},
   "outputs": [
    {
     "name": "stdout",
     "output_type": "stream",
     "text": [
      "(13779, 50, 50, 1)\n",
      "(13779, 50, 50, 1)\n"
     ]
    }
   ],
   "source": [
    "print(uninfected_imgs.shape)\n",
    "print(infected_imgs.shape)"
   ]
  },
  {
   "cell_type": "code",
   "execution_count": 66,
   "metadata": {},
   "outputs": [],
   "source": [
    "a = [[i,np.array([0])] for i in uninfected_imgs]\n",
    "a += [[i,np.array([1])] for i in infected_imgs]\n",
    "a = np.array(a)"
   ]
  },
  {
   "cell_type": "code",
   "execution_count": 67,
   "metadata": {},
   "outputs": [],
   "source": [
    "for i in range(25):\n",
    "    np.random.shuffle(a)"
   ]
  },
  {
   "cell_type": "code",
   "execution_count": 68,
   "metadata": {},
   "outputs": [],
   "source": [
    "X = np.array([i[0] for i in a])\n",
    "Y = np.array([i[1] for i in a])"
   ]
  },
  {
   "cell_type": "code",
   "execution_count": 69,
   "metadata": {},
   "outputs": [
    {
     "name": "stdout",
     "output_type": "stream",
     "text": [
      "(27558, 50, 50, 1)\n",
      "(27558, 1)\n"
     ]
    }
   ],
   "source": [
    "print(X.shape)\n",
    "print(Y.shape)"
   ]
  },
  {
   "cell_type": "code",
   "execution_count": 70,
   "metadata": {},
   "outputs": [
    {
     "name": "stdout",
     "output_type": "stream",
     "text": [
      "(27558,)\n"
     ]
    }
   ],
   "source": [
    "Y = Y.reshape(27558,)\n",
    "print(Y.shape)"
   ]
  },
  {
   "cell_type": "code",
   "execution_count": 71,
   "metadata": {},
   "outputs": [],
   "source": [
    "from sklearn.model_selection import train_test_split\n",
    "train_X, test_X, train_Y, test_Y = train_test_split(X, Y, test_size = 0.2)"
   ]
  },
  {
   "cell_type": "code",
   "execution_count": 72,
   "metadata": {},
   "outputs": [
    {
     "name": "stdout",
     "output_type": "stream",
     "text": [
      "(22046, 50, 50, 1)\n",
      "(5512, 50, 50, 1)\n",
      "(22046,)\n",
      "(5512,)\n"
     ]
    }
   ],
   "source": [
    "print(train_X.shape)\n",
    "print(test_X.shape)\n",
    "print(train_Y.shape)\n",
    "print(test_Y.shape)"
   ]
  },
  {
   "cell_type": "code",
   "execution_count": 73,
   "metadata": {},
   "outputs": [],
   "source": [
    "train_X = train_X.astype('float32')\n",
    "test_X = test_X.astype('float32')\n",
    "train_X = train_X / 255\n",
    "test_X = test_X / 255"
   ]
  },
  {
   "cell_type": "code",
   "execution_count": 74,
   "metadata": {},
   "outputs": [],
   "source": [
    "from keras.utils import to_categorical\n",
    "train_Y_one_hot = to_categorical(train_Y)\n",
    "test_Y_one_hot = to_categorical(test_Y)"
   ]
  },
  {
   "cell_type": "code",
   "execution_count": 75,
   "metadata": {},
   "outputs": [
    {
     "name": "stdout",
     "output_type": "stream",
     "text": [
      "Total number of outputs:  2\n",
      "Output classes :  [0 1]\n"
     ]
    }
   ],
   "source": [
    "classes = np.unique(train_Y)\n",
    "nClasses = len(classes)\n",
    "print('Total number of outputs: ', nClasses)\n",
    "print('Output classes : ', classes)"
   ]
  },
  {
   "cell_type": "code",
   "execution_count": 76,
   "metadata": {},
   "outputs": [
    {
     "data": {
      "image/png": "[encoded data removed]",
      "text/plain": [
       "<Figure size 432x288 with 1 Axes>"
      ]
     },
     "metadata": {},
     "output_type": "display_data"
    }
   ],
   "source": [
    "%matplotlib inline\n",
    "import matplotlib\n",
    "import matplotlib.pyplot as plt\n",
    "import math\n",
    "\n",
    "cell = infected_imgs[500]\n",
    "cell_image = cell.reshape(infected_imgs[500].shape[0], infected_imgs[500].shape[1])\n",
    "\n",
    "plt.imshow(cell_image, cmap = matplotlib.cm.binary, interpolation = \"nearest\")\n",
    "plt.axis(\"off\")\n",
    "plt.show()"
   ]
  },
  {
   "cell_type": "code",
   "execution_count": 77,
   "metadata": {},
   "outputs": [
    {
     "data": {
      "text/plain": [
       "Text(0.5,1,'Cell : 0')"
      ]
     },
     "execution_count": 77,
     "metadata": {},
     "output_type": "execute_result"
    },
    {
     "data": {
      "image/png": "[encoded data removed]",
      "text/plain": [
       "<Figure size 360x360 with 2 Axes>"
      ]
     },
     "metadata": {},
     "output_type": "display_data"
    }
   ],
   "source": [
    "plt.figure(figsize=[5,5])\n",
    "\n",
    "# Display the first image in training data\n",
    "plt.subplot(121)\n",
    "plt.imshow(train_X[0,:,:, 0], cmap='gray')\n",
    "plt.title(\"Cell : {}\".format(train_Y[0]))\n",
    "\n",
    "# Display the first image in testing data\n",
    "plt.subplot(122)\n",
    "plt.imshow(test_X[0,:,:, 0], cmap='gray')\n",
    "plt.title(\"Cell : {}\".format(test_Y[0]))"
   ]
  },
  {
   "cell_type": "code",
   "execution_count": 78,
   "metadata": {},
   "outputs": [],
   "source": [
    "train_X, valid_X, train_label, valid_label = train_test_split(train_X, train_Y_one_hot, test_size = 0.2)"
   ]
  },
  {
   "cell_type": "code",
   "execution_count": 79,
   "metadata": {},
   "outputs": [
    {
     "data": {
      "text/plain": [
       "((17636, 50, 50, 1), (4410, 50, 50, 1), (17636, 2), (4410, 2))"
      ]
     },
     "execution_count": 79,
     "metadata": {},
     "output_type": "execute_result"
    }
   ],
   "source": [
    "train_X.shape, valid_X.shape, train_label.shape, valid_label.shape"
   ]
  },
  {
   "cell_type": "code",
   "execution_count": 80,
   "metadata": {},
   "outputs": [],
   "source": [
    "batch_size = 64\n",
    "epochs = 20\n",
    "num_classes = 2"
   ]
  },
  {
   "cell_type": "code",
   "execution_count": 87,
   "metadata": {},
   "outputs": [],
   "source": [
    "malaria_model = Sequential()\n",
    "malaria_model.add(Conv2D(32, kernel_size = (3, 3), activation = 'linear', input_shape = (50, 50, 1), padding = 'same'))"
   ]
  },
  {
   "cell_type": "code",
   "execution_count": 88,
   "metadata": {},
   "outputs": [],
   "source": [
    "malaria_model.add(LeakyReLU(alpha = 0.1))\n",
    "malaria_model.add(MaxPooling2D((2,2), padding = 'same'))\n",
    "malaria_model.add(Conv2D(64, (3, 3), activation = 'linear', padding = 'same'))\n",
    "malaria_model.add(LeakyReLU(alpha = 0.1))\n",
    "malaria_model.add(MaxPooling2D(pool_size = (2, 2), padding = 'same'))\n",
    "malaria_model.add(Dropout(0.25))\n",
    "malaria_model.add(Conv2D(128, (3, 3), activation = 'linear', padding = 'same'))\n",
    "malaria_model.add(LeakyReLU(alpha = 0.1))\n",
    "malaria_model.add(MaxPooling2D(pool_size = (2,2), padding = 'same'))\n",
    "malaria_model.add(Dropout(0.25))\n",
    "malaria_model.add(Flatten())\n",
    "malaria_model.add(Dense(128, activation = 'linear'))\n",
    "malaria_model.add(LeakyReLU(alpha = 0.1))\n",
    "malaria_model.add(Dropout(0.3))\n",
    "malaria_model.add(Dense(num_classes, activation = 'softmax'))"
   ]
  },
  {
   "cell_type": "code",
   "execution_count": 89,
   "metadata": {},
   "outputs": [],
   "source": [
    "malaria_model.compile(loss = keras.losses.categorical_crossentropy, optimizer = keras.optimizers.Adam(), metrics = ['accuracy'])"
   ]
  },
  {
   "cell_type": "code",
   "execution_count": 90,
   "metadata": {},
   "outputs": [
    {
     "name": "stdout",
     "output_type": "stream",
     "text": [
      "_________________________________________________________________\n",
      "Layer (type)                 Output Shape              Param #   \n",
      "=================================================================\n",
      "conv2d_7 (Conv2D)            (None, 50, 50, 32)        320       \n",
      "_________________________________________________________________\n",
      "leaky_re_lu_11 (LeakyReLU)   (None, 50, 50, 32)        0         \n",
      "_________________________________________________________________\n",
      "max_pooling2d_9 (MaxPooling2 (None, 25, 25, 32)        0         \n",
      "_________________________________________________________________\n",
      "conv2d_8 (Conv2D)            (None, 25, 25, 64)        18496     \n",
      "_________________________________________________________________\n",
      "leaky_re_lu_12 (LeakyReLU)   (None, 25, 25, 64)        0         \n",
      "_________________________________________________________________\n",
      "max_pooling2d_10 (MaxPooling (None, 13, 13, 64)        0         \n",
      "_________________________________________________________________\n",
      "dropout_2 (Dropout)          (None, 13, 13, 64)        0         \n",
      "_________________________________________________________________\n",
      "conv2d_9 (Conv2D)            (None, 13, 13, 128)       73856     \n",
      "_________________________________________________________________\n",
      "leaky_re_lu_13 (LeakyReLU)   (None, 13, 13, 128)       0         \n",
      "_________________________________________________________________\n",
      "max_pooling2d_11 (MaxPooling (None, 7, 7, 128)         0         \n",
      "_________________________________________________________________\n",
      "dropout_3 (Dropout)          (None, 7, 7, 128)         0         \n",
      "_________________________________________________________________\n",
      "flatten_3 (Flatten)          (None, 6272)              0         \n",
      "_________________________________________________________________\n",
      "dense_5 (Dense)              (None, 128)               802944    \n",
      "_________________________________________________________________\n",
      "leaky_re_lu_14 (LeakyReLU)   (None, 128)               0         \n",
      "_________________________________________________________________\n",
      "dropout_4 (Dropout)          (None, 128)               0         \n",
      "_________________________________________________________________\n",
      "dense_6 (Dense)              (None, 2)                 258       \n",
      "=================================================================\n",
      "Total params: 895,874\n",
      "Trainable params: 895,874\n",
      "Non-trainable params: 0\n",
      "_________________________________________________________________\n"
     ]
    }
   ],
   "source": [
    "malaria_model.summary()"
   ]
  },
  {
   "cell_type": "code",
   "execution_count": 91,
   "metadata": {},
   "outputs": [
    {
     "name": "stdout",
     "output_type": "stream",
     "text": [
      "Train on 17636 samples, validate on 4410 samples\n",
      "Epoch 1/20\n",
      "17636/17636 [==============================] - 77s 4ms/step - loss: 0.6552 - acc: 0.6044 - val_loss: 0.4851 - val_acc: 0.7580\n",
      "Epoch 2/20\n",
      "17636/17636 [==============================] - 76s 4ms/step - loss: 0.3068 - acc: 0.8692 - val_loss: 0.2058 - val_acc: 0.9222\n",
      "Epoch 3/20\n",
      "17636/17636 [==============================] - 76s 4ms/step - loss: 0.1889 - acc: 0.9299 - val_loss: 0.1666 - val_acc: 0.9367\n",
      "Epoch 4/20\n",
      "17636/17636 [==============================] - 75s 4ms/step - loss: 0.1666 - acc: 0.9372 - val_loss: 0.1553 - val_acc: 0.9395\n",
      "Epoch 5/20\n",
      "17636/17636 [==============================] - 76s 4ms/step - loss: 0.1520 - acc: 0.9457 - val_loss: 0.1505 - val_acc: 0.9447\n",
      "Epoch 6/20\n",
      "17636/17636 [==============================] - 77s 4ms/step - loss: 0.1404 - acc: 0.9494 - val_loss: 0.1521 - val_acc: 0.9424\n",
      "Epoch 7/20\n",
      "17636/17636 [==============================] - 77s 4ms/step - loss: 0.1298 - acc: 0.9515 - val_loss: 0.1572 - val_acc: 0.9422\n",
      "Epoch 8/20\n",
      "17636/17636 [==============================] - 77s 4ms/step - loss: 0.1251 - acc: 0.9540 - val_loss: 0.1691 - val_acc: 0.9390\n",
      "Epoch 9/20\n",
      "17636/17636 [==============================] - 77s 4ms/step - loss: 0.1172 - acc: 0.9560 - val_loss: 0.1648 - val_acc: 0.9406\n",
      "Epoch 10/20\n",
      "17636/17636 [==============================] - 77s 4ms/step - loss: 0.1094 - acc: 0.9590 - val_loss: 0.1484 - val_acc: 0.9424\n",
      "Epoch 11/20\n",
      "17636/17636 [==============================] - 76s 4ms/step - loss: 0.1029 - acc: 0.9624 - val_loss: 0.1676 - val_acc: 0.9442\n",
      "Epoch 12/20\n",
      "17636/17636 [==============================] - 76s 4ms/step - loss: 0.1047 - acc: 0.9616 - val_loss: 0.1616 - val_acc: 0.9444\n",
      "Epoch 13/20\n",
      "17636/17636 [==============================] - 76s 4ms/step - loss: 0.0946 - acc: 0.9643 - val_loss: 0.1692 - val_acc: 0.9406\n",
      "Epoch 14/20\n",
      "17636/17636 [==============================] - 76s 4ms/step - loss: 0.0872 - acc: 0.9667 - val_loss: 0.1678 - val_acc: 0.9408\n",
      "Epoch 15/20\n",
      "17636/17636 [==============================] - 76s 4ms/step - loss: 0.0801 - acc: 0.9708 - val_loss: 0.1727 - val_acc: 0.9385\n",
      "Epoch 16/20\n",
      "17636/17636 [==============================] - 80s 5ms/step - loss: 0.0737 - acc: 0.9736 - val_loss: 0.2030 - val_acc: 0.9417\n",
      "Epoch 17/20\n",
      "17636/17636 [==============================] - 86s 5ms/step - loss: 0.0727 - acc: 0.9733 - val_loss: 0.2154 - val_acc: 0.9444\n",
      "Epoch 18/20\n",
      "17636/17636 [==============================] - 85s 5ms/step - loss: 0.0680 - acc: 0.9745 - val_loss: 0.1959 - val_acc: 0.9438\n",
      "Epoch 19/20\n",
      "17636/17636 [==============================] - 85s 5ms/step - loss: 0.0591 - acc: 0.9784 - val_loss: 0.2332 - val_acc: 0.9433\n",
      "Epoch 20/20\n",
      "17636/17636 [==============================] - 81s 5ms/step - loss: 0.0605 - acc: 0.9783 - val_loss: 0.2393 - val_acc: 0.9440\n"
     ]
    }
   ],
   "source": [
    "malaria_train = malaria_model.fit(train_X, train_label, batch_size = batch_size, epochs = epochs, verbose = 1, validation_data = (valid_X, valid_label))"
   ]
  },
  {
   "cell_type": "code",
   "execution_count": 92,
   "metadata": {},
   "outputs": [],
   "source": [
    "test_eval = malaria_model.evaluate(test_X, test_Y_one_hot, verbose = 0)"
   ]
  },
  {
   "cell_type": "code",
   "execution_count": 93,
   "metadata": {},
   "outputs": [
    {
     "name": "stdout",
     "output_type": "stream",
     "text": [
      "Test loss:  0.19980378844031824\n",
      "Test accuracy:  0.9470246734397678\n"
     ]
    }
   ],
   "source": [
    "print(\"Test loss: \", test_eval[0])\n",
    "print(\"Test accuracy: \", test_eval[1])"
   ]
  },
  {
   "cell_type": "code",
   "execution_count": 94,
   "metadata": {},
   "outputs": [
    {
     "data": {
      "image/png": "[encoded data removed]",
      "text/plain": [
       "<Figure size 432x288 with 1 Axes>"
      ]
     },
     "metadata": {},
     "output_type": "display_data"
    },
    {
     "data": {
      "image/png": "[encoded data removed]",
      "text/plain": [
       "<Figure size 432x288 with 1 Axes>"
      ]
     },
     "metadata": {},
     "output_type": "display_data"
    }
   ],
   "source": [
    "accuracy = malaria_train.history['acc']\n",
    "val_accuracy = malaria_train.history['val_acc']\n",
    "loss = malaria_train.history['loss']\n",
    "val_loss = malaria_train.history['val_loss']\n",
    "epochs = range(len(accuracy))\n",
    "plt.plot(epochs, accuracy, 'bo', label = 'Training accuracy')\n",
    "plt.plot(epochs, val_accuracy, 'b', label = 'Validation Accuracy')\n",
    "plt.title('Training and validation accuracy')\n",
    "plt.legend()\n",
    "plt.figure()\n",
    "plt.plot(epochs, loss, 'bo', label = 'Training loss')\n",
    "plt.plot(epochs, val_loss, 'b', label = 'Validation loss')\n",
    "plt.title('Training and validation loss')\n",
    "plt.legend()\n",
    "plt.show()\n"
   ]
  },
  {
   "cell_type": "code",
   "execution_count": 95,
   "metadata": {},
   "outputs": [],
   "source": [
    "y_score_train = malaria_model.predict_classes(train_X)\n",
    "y_score_validate = malaria_model.predict_classes(valid_X)\n",
    "y_score_test = malaria_model.predict_classes(test_X)"
   ]
  },
  {
   "cell_type": "code",
   "execution_count": 96,
   "metadata": {},
   "outputs": [
    {
     "name": "stdout",
     "output_type": "stream",
     "text": [
      "(17636,)\n",
      "(4410,)\n",
      "(5512,)\n"
     ]
    }
   ],
   "source": [
    "train_label_score = train_label[:, 1]\n",
    "print(train_label_score.shape)\n",
    "valid_label_score = valid_label[:, 1]\n",
    "print(valid_label_score.shape)\n",
    "test_label_score = test_Y_one_hot[:, 1]\n",
    "print(test_label_score.shape)"
   ]
  },
  {
   "cell_type": "code",
   "execution_count": null,
   "metadata": {},
   "outputs": [],
   "source": []
  },
  {
   "cell_type": "code",
   "execution_count": 98,
   "metadata": {},
   "outputs": [
    {
     "name": "stdout",
     "output_type": "stream",
     "text": [
      "Training Accuracy: 0.990077\n",
      "Training Precision: 0.992823\n",
      "Training Recall: 0.987312\n",
      "Validation accuracy: 0.943991\n",
      "Validation precision: 0.955963\n",
      "Validation recall: 0.932438\n",
      "Test accuracy: 0.947025\n",
      "Test precision: 0.953610\n",
      "Test recall: 0.938167\n"
     ]
    }
   ],
   "source": [
    "from sklearn.metrics import accuracy_score\n",
    "from sklearn.metrics import precision_score\n",
    "from sklearn.metrics import recall_score\n",
    "train_accuracy = accuracy_score(train_label_score, y_score_train)\n",
    "print('Training Accuracy: %f' %train_accuracy)\n",
    "train_precision = precision_score(train_label_score, y_score_train)\n",
    "print('Training Precision: %f' %train_precision)\n",
    "train_recall = recall_score(train_label_score, y_score_train)\n",
    "print('Training Recall: %f' %train_recall)\n",
    "validation_accuracy = accuracy_score(valid_label_score, y_score_validate)\n",
    "print('Validation accuracy: %f' %validation_accuracy)\n",
    "validation_precision = precision_score(valid_label_score, y_score_validate)\n",
    "print('Validation precision: %f' %validation_precision)\n",
    "validation_recall = recall_score(valid_label_score, y_score_validate)\n",
    "print('Validation recall: %f' %validation_recall)\n",
    "test_accuracy = accuracy_score(test_label_score, y_score_test)\n",
    "print('Test accuracy: %f' %test_accuracy)\n",
    "test_precision = precision_score(test_label_score, y_score_test)\n",
    "print('Test precision: %f' %test_precision)\n",
    "test_recall = recall_score(test_label_score, y_score_test)\n",
    "print('Test recall: %f' %test_recall)"
   ]
  },
  {
   "cell_type": "code",
   "execution_count": 99,
   "metadata": {},
   "outputs": [],
   "source": [
    "malaria_model.save(\"malaria_model_with_dropout.h5py\")"
   ]
  },
  {
   "cell_type": "code",
   "execution_count": null,
   "metadata": {},
   "outputs": [],
   "source": []
  }
 ],
 "metadata": {
  "kernelspec": {
   "display_name": "Python 3",
   "language": "python",
   "name": "python3"
  },
  "language_info": {
   "codemirror_mode": {
    "name": "ipython",
    "version": 3
   },
   "file_extension": ".py",
   "mimetype": "text/x-python",
   "name": "python",
   "nbconvert_exporter": "python",
   "pygments_lexer": "ipython3",
   "version": "3.6.5"
  }
 },
 "nbformat": 4,
 "nbformat_minor": 2
}
